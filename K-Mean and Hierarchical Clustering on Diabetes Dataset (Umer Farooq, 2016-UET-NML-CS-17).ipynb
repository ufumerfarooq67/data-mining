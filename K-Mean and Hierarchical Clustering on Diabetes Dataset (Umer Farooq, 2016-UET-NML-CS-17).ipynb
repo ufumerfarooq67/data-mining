{
 "cells": [
  {
   "cell_type": "code",
   "execution_count": 53,
   "id": "cef40f81",
   "metadata": {},
   "outputs": [],
   "source": [
    "import numpy as np\n",
    "import pandas as pd\n",
    "import matplotlib.pyplot as plt\n",
    "from sklearn.preprocessing import normalize\n",
    "# K-Means\n",
    "from sklearn.cluster import KMeans\n",
    "# PCA\n",
    "from sklearn.decomposition import PCA\n",
    "# Hierarchical Clustering\n",
    "import scipy.cluster.hierarchy as hc\n",
    "from sklearn.cluster import AgglomerativeClustering"
   ]
  },
  {
   "cell_type": "code",
   "execution_count": 66,
   "id": "813777fc",
   "metadata": {},
   "outputs": [],
   "source": [
    "dataset = pd.read_csv('diabetes-dataset.csv')"
   ]
  },
  {
   "cell_type": "code",
   "execution_count": 67,
   "id": "51838e86",
   "metadata": {},
   "outputs": [
    {
     "data": {
      "text/html": [
       "<div>\n",
       "<style scoped>\n",
       "    .dataframe tbody tr th:only-of-type {\n",
       "        vertical-align: middle;\n",
       "    }\n",
       "\n",
       "    .dataframe tbody tr th {\n",
       "        vertical-align: top;\n",
       "    }\n",
       "\n",
       "    .dataframe thead th {\n",
       "        text-align: right;\n",
       "    }\n",
       "</style>\n",
       "<table border=\"1\" class=\"dataframe\">\n",
       "  <thead>\n",
       "    <tr style=\"text-align: right;\">\n",
       "      <th></th>\n",
       "      <th>Pregnancies</th>\n",
       "      <th>Glucose</th>\n",
       "      <th>BloodPressure</th>\n",
       "      <th>SkinThickness</th>\n",
       "      <th>Insulin</th>\n",
       "      <th>BMI</th>\n",
       "      <th>DiabetesPedigreeFunction</th>\n",
       "      <th>Age</th>\n",
       "      <th>Outcome</th>\n",
       "    </tr>\n",
       "  </thead>\n",
       "  <tbody>\n",
       "    <tr>\n",
       "      <th>0</th>\n",
       "      <td>2</td>\n",
       "      <td>138</td>\n",
       "      <td>62</td>\n",
       "      <td>35</td>\n",
       "      <td>0</td>\n",
       "      <td>33.6</td>\n",
       "      <td>0.127</td>\n",
       "      <td>47</td>\n",
       "      <td>1</td>\n",
       "    </tr>\n",
       "    <tr>\n",
       "      <th>1</th>\n",
       "      <td>0</td>\n",
       "      <td>84</td>\n",
       "      <td>82</td>\n",
       "      <td>31</td>\n",
       "      <td>125</td>\n",
       "      <td>38.2</td>\n",
       "      <td>0.233</td>\n",
       "      <td>23</td>\n",
       "      <td>0</td>\n",
       "    </tr>\n",
       "    <tr>\n",
       "      <th>2</th>\n",
       "      <td>0</td>\n",
       "      <td>145</td>\n",
       "      <td>0</td>\n",
       "      <td>0</td>\n",
       "      <td>0</td>\n",
       "      <td>44.2</td>\n",
       "      <td>0.630</td>\n",
       "      <td>31</td>\n",
       "      <td>1</td>\n",
       "    </tr>\n",
       "    <tr>\n",
       "      <th>3</th>\n",
       "      <td>0</td>\n",
       "      <td>135</td>\n",
       "      <td>68</td>\n",
       "      <td>42</td>\n",
       "      <td>250</td>\n",
       "      <td>42.3</td>\n",
       "      <td>0.365</td>\n",
       "      <td>24</td>\n",
       "      <td>1</td>\n",
       "    </tr>\n",
       "    <tr>\n",
       "      <th>4</th>\n",
       "      <td>1</td>\n",
       "      <td>139</td>\n",
       "      <td>62</td>\n",
       "      <td>41</td>\n",
       "      <td>480</td>\n",
       "      <td>40.7</td>\n",
       "      <td>0.536</td>\n",
       "      <td>21</td>\n",
       "      <td>0</td>\n",
       "    </tr>\n",
       "  </tbody>\n",
       "</table>\n",
       "</div>"
      ],
      "text/plain": [
       "   Pregnancies  Glucose  BloodPressure  SkinThickness  Insulin   BMI  \\\n",
       "0            2      138             62             35        0  33.6   \n",
       "1            0       84             82             31      125  38.2   \n",
       "2            0      145              0              0        0  44.2   \n",
       "3            0      135             68             42      250  42.3   \n",
       "4            1      139             62             41      480  40.7   \n",
       "\n",
       "   DiabetesPedigreeFunction  Age  Outcome  \n",
       "0                     0.127   47        1  \n",
       "1                     0.233   23        0  \n",
       "2                     0.630   31        1  \n",
       "3                     0.365   24        1  \n",
       "4                     0.536   21        0  "
      ]
     },
     "execution_count": 67,
     "metadata": {},
     "output_type": "execute_result"
    }
   ],
   "source": [
    "dataset.head()"
   ]
  },
  {
   "cell_type": "code",
   "execution_count": 68,
   "id": "22db1f7d",
   "metadata": {},
   "outputs": [],
   "source": [
    "y = data['Outcome']\n",
    "dataset = data.drop(['Outcome'], axis=1)"
   ]
  },
  {
   "cell_type": "code",
   "execution_count": 69,
   "id": "2b9b533f",
   "metadata": {},
   "outputs": [
    {
     "data": {
      "text/html": [
       "<div>\n",
       "<style scoped>\n",
       "    .dataframe tbody tr th:only-of-type {\n",
       "        vertical-align: middle;\n",
       "    }\n",
       "\n",
       "    .dataframe tbody tr th {\n",
       "        vertical-align: top;\n",
       "    }\n",
       "\n",
       "    .dataframe thead th {\n",
       "        text-align: right;\n",
       "    }\n",
       "</style>\n",
       "<table border=\"1\" class=\"dataframe\">\n",
       "  <thead>\n",
       "    <tr style=\"text-align: right;\">\n",
       "      <th></th>\n",
       "      <th>Pregnancies</th>\n",
       "      <th>Glucose</th>\n",
       "      <th>BloodPressure</th>\n",
       "      <th>SkinThickness</th>\n",
       "      <th>Insulin</th>\n",
       "      <th>BMI</th>\n",
       "      <th>DiabetesPedigreeFunction</th>\n",
       "      <th>Age</th>\n",
       "    </tr>\n",
       "  </thead>\n",
       "  <tbody>\n",
       "    <tr>\n",
       "      <th>0</th>\n",
       "      <td>2</td>\n",
       "      <td>138</td>\n",
       "      <td>62</td>\n",
       "      <td>35</td>\n",
       "      <td>0</td>\n",
       "      <td>33.6</td>\n",
       "      <td>0.127</td>\n",
       "      <td>47</td>\n",
       "    </tr>\n",
       "    <tr>\n",
       "      <th>1</th>\n",
       "      <td>0</td>\n",
       "      <td>84</td>\n",
       "      <td>82</td>\n",
       "      <td>31</td>\n",
       "      <td>125</td>\n",
       "      <td>38.2</td>\n",
       "      <td>0.233</td>\n",
       "      <td>23</td>\n",
       "    </tr>\n",
       "    <tr>\n",
       "      <th>2</th>\n",
       "      <td>0</td>\n",
       "      <td>145</td>\n",
       "      <td>0</td>\n",
       "      <td>0</td>\n",
       "      <td>0</td>\n",
       "      <td>44.2</td>\n",
       "      <td>0.630</td>\n",
       "      <td>31</td>\n",
       "    </tr>\n",
       "    <tr>\n",
       "      <th>3</th>\n",
       "      <td>0</td>\n",
       "      <td>135</td>\n",
       "      <td>68</td>\n",
       "      <td>42</td>\n",
       "      <td>250</td>\n",
       "      <td>42.3</td>\n",
       "      <td>0.365</td>\n",
       "      <td>24</td>\n",
       "    </tr>\n",
       "    <tr>\n",
       "      <th>4</th>\n",
       "      <td>1</td>\n",
       "      <td>139</td>\n",
       "      <td>62</td>\n",
       "      <td>41</td>\n",
       "      <td>480</td>\n",
       "      <td>40.7</td>\n",
       "      <td>0.536</td>\n",
       "      <td>21</td>\n",
       "    </tr>\n",
       "  </tbody>\n",
       "</table>\n",
       "</div>"
      ],
      "text/plain": [
       "   Pregnancies  Glucose  BloodPressure  SkinThickness  Insulin   BMI  \\\n",
       "0            2      138             62             35        0  33.6   \n",
       "1            0       84             82             31      125  38.2   \n",
       "2            0      145              0              0        0  44.2   \n",
       "3            0      135             68             42      250  42.3   \n",
       "4            1      139             62             41      480  40.7   \n",
       "\n",
       "   DiabetesPedigreeFunction  Age  \n",
       "0                     0.127   47  \n",
       "1                     0.233   23  \n",
       "2                     0.630   31  \n",
       "3                     0.365   24  \n",
       "4                     0.536   21  "
      ]
     },
     "execution_count": 69,
     "metadata": {},
     "output_type": "execute_result"
    }
   ],
   "source": [
    "dataset.head()"
   ]
  },
  {
   "cell_type": "code",
   "execution_count": 70,
   "id": "bbc82a12",
   "metadata": {},
   "outputs": [],
   "source": [
    "# PCA Tranformation\n",
    "pca = PCA(2)\n",
    " \n",
    "#Transform the data\n",
    "dataset = pca.fit_transform(dataset)"
   ]
  },
  {
   "cell_type": "code",
   "execution_count": 114,
   "id": "1267d084",
   "metadata": {},
   "outputs": [
    {
     "data": {
      "text/plain": [
       "(2000, 2)"
      ]
     },
     "execution_count": 114,
     "metadata": {},
     "output_type": "execute_result"
    }
   ],
   "source": [
    "dataset.shape"
   ]
  },
  {
   "cell_type": "code",
   "execution_count": 115,
   "id": "c5f7d458",
   "metadata": {},
   "outputs": [
    {
     "data": {
      "text/html": [
       "<div>\n",
       "<style scoped>\n",
       "    .dataframe tbody tr th:only-of-type {\n",
       "        vertical-align: middle;\n",
       "    }\n",
       "\n",
       "    .dataframe tbody tr th {\n",
       "        vertical-align: top;\n",
       "    }\n",
       "\n",
       "    .dataframe thead th {\n",
       "        text-align: right;\n",
       "    }\n",
       "</style>\n",
       "<table border=\"1\" class=\"dataframe\">\n",
       "  <thead>\n",
       "    <tr style=\"text-align: right;\">\n",
       "      <th></th>\n",
       "      <th>0</th>\n",
       "      <th>1</th>\n",
       "    </tr>\n",
       "  </thead>\n",
       "  <tbody>\n",
       "    <tr>\n",
       "      <th>0</th>\n",
       "      <td>-77.284731</td>\n",
       "      <td>-24.334762</td>\n",
       "    </tr>\n",
       "    <tr>\n",
       "      <th>1</th>\n",
       "      <td>41.800926</td>\n",
       "      <td>40.660552</td>\n",
       "    </tr>\n",
       "    <tr>\n",
       "      <th>2</th>\n",
       "      <td>-79.573567</td>\n",
       "      <td>-23.598817</td>\n",
       "    </tr>\n",
       "    <tr>\n",
       "      <th>3</th>\n",
       "      <td>171.475001</td>\n",
       "      <td>4.848982</td>\n",
       "    </tr>\n",
       "    <tr>\n",
       "      <th>4</th>\n",
       "      <td>400.009652</td>\n",
       "      <td>23.977559</td>\n",
       "    </tr>\n",
       "  </tbody>\n",
       "</table>\n",
       "</div>"
      ],
      "text/plain": [
       "            0          1\n",
       "0  -77.284731 -24.334762\n",
       "1   41.800926  40.660552\n",
       "2  -79.573567 -23.598817\n",
       "3  171.475001   4.848982\n",
       "4  400.009652  23.977559"
      ]
     },
     "execution_count": 115,
     "metadata": {},
     "output_type": "execute_result"
    }
   ],
   "source": [
    "dataset = pd.DataFrame(dataset)\n",
    "dataset.head()"
   ]
  },
  {
   "cell_type": "markdown",
   "id": "b29c2388",
   "metadata": {},
   "source": [
    "# K-Means Clustering with 6,8 and 10 Clusters"
   ]
  },
  {
   "cell_type": "markdown",
   "id": "8a35d796",
   "metadata": {},
   "source": [
    "## K-Means Clustering with 6 Clusters"
   ]
  },
  {
   "cell_type": "code",
   "execution_count": 116,
   "id": "48651509",
   "metadata": {},
   "outputs": [],
   "source": [
    "kmeans = KMeans(n_clusters= 6)\n",
    " \n",
    "#predict the labels of clusters.\n",
    "label = kmeans.fit_predict(dataset)\n",
    "   \n",
    "np.unique(label)\n",
    "\n",
    "#Getting the Centroids\n",
    "centroids = kmeans.cluster_centers_"
   ]
  },
  {
   "cell_type": "code",
   "execution_count": 117,
   "id": "e87d13ea",
   "metadata": {},
   "outputs": [
    {
     "data": {
      "text/plain": [
       "array([[  2.05458684,  16.3692466 ],\n",
       "       [219.06556928,  -9.31524908],\n",
       "       [-79.7535419 ,  15.82112759],\n",
       "       [436.18800255,   3.98829464],\n",
       "       [ 89.90208407,  -5.10992957],\n",
       "       [-76.71374671, -40.13993486]])"
      ]
     },
     "execution_count": 117,
     "metadata": {},
     "output_type": "execute_result"
    }
   ],
   "source": [
    "centroids"
   ]
  },
  {
   "cell_type": "markdown",
   "id": "fd3d4917",
   "metadata": {},
   "source": [
    "### Scatter Plots of Dataset"
   ]
  },
  {
   "cell_type": "code",
   "execution_count": 118,
   "id": "4463bfbc",
   "metadata": {},
   "outputs": [
    {
     "data": {
      "image/png": "[encoded data removed]",
      "text/plain": [
       "<Figure size 720x360 with 1 Axes>"
      ]
     },
     "metadata": {
      "needs_background": "light"
     },
     "output_type": "display_data"
    }
   ],
   "source": [
    "c = ['red','blue','yellow','olive','purple','orange','green','pink','magenta','cyan']\n",
    "\n",
    "#filter rows of original data\n",
    "plt.figure(figsize=(10,5))\n",
    "for i in range(6):\n",
    "    data = dataset[label == i]\n",
    "\n",
    "    #plt.subplot(6,7,count+1)\n",
    "    plt.scatter(data.iloc[:,0],data.iloc[:,1],color=c[i],label=i)\n",
    "\n",
    "plt.scatter(centroids[:,0] , centroids[:,1] , s = 80, color = 'k')\n",
    "\n",
    "plt.legend()\n",
    "plt.show()"
   ]
  },
  {
   "cell_type": "markdown",
   "id": "42e4251c",
   "metadata": {},
   "source": [
    "## K-Means Clustering with 8 Clusters"
   ]
  },
  {
   "cell_type": "code",
   "execution_count": 119,
   "id": "e1a51962",
   "metadata": {},
   "outputs": [],
   "source": [
    "kmeans = KMeans(n_clusters= 8)\n",
    " \n",
    "#predict the labels of clusters.\n",
    "label = kmeans.fit_predict(dataset)\n",
    "   \n",
    "np.unique(label)\n",
    "\n",
    "#Getting the Centroids\n",
    "centroids = kmeans.cluster_centers_"
   ]
  },
  {
   "cell_type": "code",
   "execution_count": 120,
   "id": "54ea81f9",
   "metadata": {},
   "outputs": [
    {
     "data": {
      "text/plain": [
       "array([[116.04296278,  -1.06206509],\n",
       "       [-74.19217226, -51.88879568],\n",
       "       [436.18800255,   3.98829464],\n",
       "       [-10.73229398,  22.57248993],\n",
       "       [228.58509943,  -9.97514932],\n",
       "       [-80.70158574,  -4.05930602],\n",
       "       [ 50.28650468,  -5.22053258],\n",
       "       [-81.56323398,  33.28005938]])"
      ]
     },
     "execution_count": 120,
     "metadata": {},
     "output_type": "execute_result"
    }
   ],
   "source": [
    "centroids"
   ]
  },
  {
   "cell_type": "markdown",
   "id": "462ce9d6",
   "metadata": {},
   "source": [
    "### Scatter Plots of Dataset"
   ]
  },
  {
   "cell_type": "code",
   "execution_count": 121,
   "id": "a5bf0ed7",
   "metadata": {},
   "outputs": [
    {
     "data": {
      "image/png": "[encoded data removed]",
      "text/plain": [
       "<Figure size 720x360 with 1 Axes>"
      ]
     },
     "metadata": {
      "needs_background": "light"
     },
     "output_type": "display_data"
    }
   ],
   "source": [
    "c = ['red','blue','yellow','olive','purple','orange','green','pink','magenta','cyan']\n",
    "\n",
    "#filter rows of original data\n",
    "plt.figure(figsize=(10,5))\n",
    "for i in range(6):\n",
    "    data = dataset[label == i]\n",
    "\n",
    "    #plt.subplot(6,7,count+1)\n",
    "    plt.scatter(data.iloc[:,0],data.iloc[:,1],color=c[i],label=i)\n",
    "\n",
    "plt.scatter(centroids[:,0] , centroids[:,1] , s = 80, color = 'k')\n",
    "\n",
    "plt.legend()\n",
    "plt.show()"
   ]
  },
  {
   "cell_type": "markdown",
   "id": "292eb1dc",
   "metadata": {},
   "source": [
    "## K-Means Clustering with 10 Clusters"
   ]
  },
  {
   "cell_type": "code",
   "execution_count": 123,
   "id": "98969f27",
   "metadata": {},
   "outputs": [],
   "source": [
    "kmeans = KMeans(n_clusters= 10)\n",
    " \n",
    "#predict the labels of clusters.\n",
    "label = kmeans.fit_predict(dataset)\n",
    "   \n",
    "np.unique(label)\n",
    "\n",
    "#Getting the Centroids\n",
    "centroids = kmeans.cluster_centers_"
   ]
  },
  {
   "cell_type": "code",
   "execution_count": 124,
   "id": "621df37f",
   "metadata": {},
   "outputs": [
    {
     "data": {
      "text/plain": [
       "array([[-80.4497399 ,  -6.55781799],\n",
       "       [209.03511909, -10.78646858],\n",
       "       [ 25.99362254,  14.32614637],\n",
       "       [371.92741726,  -1.56907657],\n",
       "       [ 63.56862068, -26.64871619],\n",
       "       [-22.04825953,  25.47993475],\n",
       "       [109.71997451,   6.92836882],\n",
       "       [-73.11738466, -54.60187708],\n",
       "       [526.12476909,  10.32419716],\n",
       "       [-82.88629006,  30.77925026]])"
      ]
     },
     "execution_count": 124,
     "metadata": {},
     "output_type": "execute_result"
    }
   ],
   "source": [
    "centroids"
   ]
  },
  {
   "cell_type": "markdown",
   "id": "17e1a9d9",
   "metadata": {},
   "source": [
    "### Scatter Plots of Dataset"
   ]
  },
  {
   "cell_type": "code",
   "execution_count": 125,
   "id": "7da764fc",
   "metadata": {},
   "outputs": [
    {
     "data": {
      "image/png": "[encoded data removed]",
      "text/plain": [
       "<Figure size 720x360 with 1 Axes>"
      ]
     },
     "metadata": {
      "needs_background": "light"
     },
     "output_type": "display_data"
    }
   ],
   "source": [
    "#filter rows of original data\n",
    "plt.figure(figsize=(10,5))\n",
    "for i in range(10):\n",
    "    data = dataset[label == i]\n",
    "    plt.scatter(data.iloc[:,0],data.iloc[:,1],color=c[i],label=i)\n",
    "plt.scatter(centroids[:,0] , centroids[:,1] , s = 80, color = 'k')\n",
    "\n",
    "plt.legend()\n",
    "plt.show()"
   ]
  },
  {
   "cell_type": "markdown",
   "id": "9490ee6d",
   "metadata": {},
   "source": [
    "# Hierarchical Clustering "
   ]
  },
  {
   "cell_type": "code",
   "execution_count": 73,
   "id": "3b840e72",
   "metadata": {},
   "outputs": [
    {
     "data": {
      "text/html": [
       "<div>\n",
       "<style scoped>\n",
       "    .dataframe tbody tr th:only-of-type {\n",
       "        vertical-align: middle;\n",
       "    }\n",
       "\n",
       "    .dataframe tbody tr th {\n",
       "        vertical-align: top;\n",
       "    }\n",
       "\n",
       "    .dataframe thead th {\n",
       "        text-align: right;\n",
       "    }\n",
       "</style>\n",
       "<table border=\"1\" class=\"dataframe\">\n",
       "  <thead>\n",
       "    <tr style=\"text-align: right;\">\n",
       "      <th></th>\n",
       "      <th>0</th>\n",
       "      <th>1</th>\n",
       "    </tr>\n",
       "  </thead>\n",
       "  <tbody>\n",
       "    <tr>\n",
       "      <th>0</th>\n",
       "      <td>-77.284731</td>\n",
       "      <td>-24.334762</td>\n",
       "    </tr>\n",
       "    <tr>\n",
       "      <th>1</th>\n",
       "      <td>41.800926</td>\n",
       "      <td>40.660552</td>\n",
       "    </tr>\n",
       "    <tr>\n",
       "      <th>2</th>\n",
       "      <td>-79.573567</td>\n",
       "      <td>-23.598817</td>\n",
       "    </tr>\n",
       "    <tr>\n",
       "      <th>3</th>\n",
       "      <td>171.475001</td>\n",
       "      <td>4.848982</td>\n",
       "    </tr>\n",
       "    <tr>\n",
       "      <th>4</th>\n",
       "      <td>400.009652</td>\n",
       "      <td>23.977559</td>\n",
       "    </tr>\n",
       "  </tbody>\n",
       "</table>\n",
       "</div>"
      ],
      "text/plain": [
       "            0          1\n",
       "0  -77.284731 -24.334762\n",
       "1   41.800926  40.660552\n",
       "2  -79.573567 -23.598817\n",
       "3  171.475001   4.848982\n",
       "4  400.009652  23.977559"
      ]
     },
     "execution_count": 73,
     "metadata": {},
     "output_type": "execute_result"
    }
   ],
   "source": [
    "dataset.head()"
   ]
  },
  {
   "cell_type": "code",
   "execution_count": 64,
   "id": "6f76a971",
   "metadata": {},
   "outputs": [
    {
     "data": {
      "image/png": "[encoded data removed]",
      "text/plain": [
       "<Figure size 720x504 with 1 Axes>"
      ]
     },
     "metadata": {
      "needs_background": "light"
     },
     "output_type": "display_data"
    }
   ],
   "source": [
    "plt.figure(figsize=(10, 7))  \n",
    "plt.title(\"Dendrograms \")  \n",
    "dend = hc.dendrogram(hc.linkage(dataset, method='complete'))"
   ]
  },
  {
   "cell_type": "markdown",
   "id": "ad53b55a",
   "metadata": {},
   "source": [
    "### Actual Clustering"
   ]
  },
  {
   "cell_type": "markdown",
   "id": "8c89719a",
   "metadata": {},
   "source": [
    "### 10 Clusters with single linkage"
   ]
  },
  {
   "cell_type": "code",
   "execution_count": 97,
   "id": "fa9cb868",
   "metadata": {
    "scrolled": true
   },
   "outputs": [],
   "source": [
    "clustering =  AgglomerativeClustering(n_clusters=10,affinity='euclidean',linkage='single')"
   ]
  },
  {
   "cell_type": "code",
   "execution_count": 98,
   "id": "573cc592",
   "metadata": {},
   "outputs": [],
   "source": [
    "model = clustering.fit_predict(dataset)"
   ]
  },
  {
   "cell_type": "code",
   "execution_count": 101,
   "id": "a599426a",
   "metadata": {},
   "outputs": [
    {
     "data": {
      "image/png": "[encoded data removed]",
      "text/plain": [
       "<Figure size 720x360 with 1 Axes>"
      ]
     },
     "metadata": {
      "needs_background": "light"
     },
     "output_type": "display_data"
    }
   ],
   "source": [
    "c = ['red','blue','yellow','olive','purple','orange','green','pink','magenta','cyan']\n",
    "    \n",
    "#filter rows of original data\n",
    "plt.figure(figsize=(10,5))\n",
    "for i in range(10):\n",
    "    data = dataset[model == i]\n",
    "    plt.scatter(data.iloc[:,0],data.iloc[:,1],color=c[i],label=i)\n",
    "\n",
    "plt.legend()\n",
    "plt.show()"
   ]
  },
  {
   "cell_type": "markdown",
   "id": "920251c7",
   "metadata": {},
   "source": [
    "### 10 Clusters with average linkage"
   ]
  },
  {
   "cell_type": "code",
   "execution_count": 108,
   "id": "3e72eda3",
   "metadata": {
    "scrolled": true
   },
   "outputs": [],
   "source": [
    "clustering =  AgglomerativeClustering(n_clusters=10,affinity='euclidean',linkage='average')"
   ]
  },
  {
   "cell_type": "code",
   "execution_count": 109,
   "id": "16f02cdb",
   "metadata": {},
   "outputs": [],
   "source": [
    "model = clustering.fit_predict(dataset)"
   ]
  },
  {
   "cell_type": "code",
   "execution_count": 110,
   "id": "3c030641",
   "metadata": {},
   "outputs": [
    {
     "data": {
      "image/png": "[encoded data removed]",
      "text/plain": [
       "<Figure size 720x360 with 1 Axes>"
      ]
     },
     "metadata": {
      "needs_background": "light"
     },
     "output_type": "display_data"
    }
   ],
   "source": [
    "c = ['red','blue','yellow','olive','purple','orange','green','pink','magenta','cyan']\n",
    "    \n",
    "#filter rows of original data\n",
    "plt.figure(figsize=(10,5))\n",
    "for i in range(10):\n",
    "    data = dataset[model == i]\n",
    "    plt.scatter(data.iloc[:,0],data.iloc[:,1],color=c[i],label=i)\n",
    "\n",
    "plt.legend()\n",
    "plt.show()"
   ]
  },
  {
   "cell_type": "markdown",
   "id": "e4315214",
   "metadata": {},
   "source": [
    "### 10 Clusters with complete linkage"
   ]
  },
  {
   "cell_type": "code",
   "execution_count": 111,
   "id": "a6b8fe3b",
   "metadata": {
    "scrolled": true
   },
   "outputs": [],
   "source": [
    "clustering =  AgglomerativeClustering(n_clusters=10,affinity='euclidean',linkage='average')"
   ]
  },
  {
   "cell_type": "code",
   "execution_count": 112,
   "id": "fcfa2c9e",
   "metadata": {},
   "outputs": [],
   "source": [
    "model = clustering.fit_predict(dataset)"
   ]
  },
  {
   "cell_type": "code",
   "execution_count": 113,
   "id": "f00e061c",
   "metadata": {},
   "outputs": [
    {
     "data": {
      "image/png": "[encoded data removed]",
      "text/plain": [
       "<Figure size 720x360 with 1 Axes>"
      ]
     },
     "metadata": {
      "needs_background": "light"
     },
     "output_type": "display_data"
    }
   ],
   "source": [
    "c = ['red','blue','yellow','olive','purple','orange','green','pink','magenta','cyan']\n",
    "    \n",
    "#filter rows of original data\n",
    "plt.figure(figsize=(10,5))\n",
    "for i in range(10):\n",
    "    data = dataset[model == i]\n",
    "    plt.scatter(data.iloc[:,0],data.iloc[:,1],color=c[i],label=i)\n",
    "\n",
    "plt.legend()\n",
    "plt.show()"
   ]
  }
 ],
 "metadata": {
  "kernelspec": {
   "display_name": "Python 3",
   "language": "python",
   "name": "python3"
  },
  "language_info": {
   "codemirror_mode": {
    "name": "ipython",
    "version": 3
   },
   "file_extension": ".py",
   "mimetype": "text/x-python",
   "name": "python",
   "nbconvert_exporter": "python",
   "pygments_lexer": "ipython3",
   "version": "3.8.8"
  }
 },
 "nbformat": 4,
 "nbformat_minor": 5
}
