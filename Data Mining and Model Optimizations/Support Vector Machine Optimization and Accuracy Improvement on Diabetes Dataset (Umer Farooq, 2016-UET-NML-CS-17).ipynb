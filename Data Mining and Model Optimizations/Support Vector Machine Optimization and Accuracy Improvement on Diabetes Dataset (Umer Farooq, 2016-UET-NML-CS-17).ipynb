{
 "cells": [
  {
   "cell_type": "code",
   "execution_count": null,
   "metadata": {},
   "outputs": [],
   "source": [
    "import pandas as pd\n",
    "import numpy as np\n",
    "from sklearn.svm import SVC\n",
    "from sklearn.model_selection import train_test_split\n",
    "from sklearn.metrics import accuracy_score"
   ]
  },
  {
   "cell_type": "code",
   "execution_count": 2,
   "metadata": {},
   "outputs": [
    {
     "data": {
      "text/html": [
       "<div>\n",
       "<style scoped>\n",
       "    .dataframe tbody tr th:only-of-type {\n",
       "        vertical-align: middle;\n",
       "    }\n",
       "\n",
       "    .dataframe tbody tr th {\n",
       "        vertical-align: top;\n",
       "    }\n",
       "\n",
       "    .dataframe thead th {\n",
       "        text-align: right;\n",
       "    }\n",
       "</style>\n",
       "<table border=\"1\" class=\"dataframe\">\n",
       "  <thead>\n",
       "    <tr style=\"text-align: right;\">\n",
       "      <th></th>\n",
       "      <th>Pregnancies</th>\n",
       "      <th>Glucose</th>\n",
       "      <th>BloodPressure</th>\n",
       "      <th>SkinThickness</th>\n",
       "      <th>Insulin</th>\n",
       "      <th>BMI</th>\n",
       "      <th>DiabetesPedigreeFunction</th>\n",
       "      <th>Age</th>\n",
       "      <th>Outcome</th>\n",
       "    </tr>\n",
       "  </thead>\n",
       "  <tbody>\n",
       "    <tr>\n",
       "      <th>0</th>\n",
       "      <td>2</td>\n",
       "      <td>138</td>\n",
       "      <td>62</td>\n",
       "      <td>35</td>\n",
       "      <td>0</td>\n",
       "      <td>33.6</td>\n",
       "      <td>0.127</td>\n",
       "      <td>47</td>\n",
       "      <td>1</td>\n",
       "    </tr>\n",
       "    <tr>\n",
       "      <th>1</th>\n",
       "      <td>0</td>\n",
       "      <td>84</td>\n",
       "      <td>82</td>\n",
       "      <td>31</td>\n",
       "      <td>125</td>\n",
       "      <td>38.2</td>\n",
       "      <td>0.233</td>\n",
       "      <td>23</td>\n",
       "      <td>0</td>\n",
       "    </tr>\n",
       "    <tr>\n",
       "      <th>2</th>\n",
       "      <td>0</td>\n",
       "      <td>145</td>\n",
       "      <td>0</td>\n",
       "      <td>0</td>\n",
       "      <td>0</td>\n",
       "      <td>44.2</td>\n",
       "      <td>0.630</td>\n",
       "      <td>31</td>\n",
       "      <td>1</td>\n",
       "    </tr>\n",
       "    <tr>\n",
       "      <th>3</th>\n",
       "      <td>0</td>\n",
       "      <td>135</td>\n",
       "      <td>68</td>\n",
       "      <td>42</td>\n",
       "      <td>250</td>\n",
       "      <td>42.3</td>\n",
       "      <td>0.365</td>\n",
       "      <td>24</td>\n",
       "      <td>1</td>\n",
       "    </tr>\n",
       "    <tr>\n",
       "      <th>4</th>\n",
       "      <td>1</td>\n",
       "      <td>139</td>\n",
       "      <td>62</td>\n",
       "      <td>41</td>\n",
       "      <td>480</td>\n",
       "      <td>40.7</td>\n",
       "      <td>0.536</td>\n",
       "      <td>21</td>\n",
       "      <td>0</td>\n",
       "    </tr>\n",
       "  </tbody>\n",
       "</table>\n",
       "</div>"
      ],
      "text/plain": [
       "   Pregnancies  Glucose  BloodPressure  SkinThickness  Insulin   BMI  \\\n",
       "0            2      138             62             35        0  33.6   \n",
       "1            0       84             82             31      125  38.2   \n",
       "2            0      145              0              0        0  44.2   \n",
       "3            0      135             68             42      250  42.3   \n",
       "4            1      139             62             41      480  40.7   \n",
       "\n",
       "   DiabetesPedigreeFunction  Age  Outcome  \n",
       "0                     0.127   47        1  \n",
       "1                     0.233   23        0  \n",
       "2                     0.630   31        1  \n",
       "3                     0.365   24        1  \n",
       "4                     0.536   21        0  "
      ]
     },
     "execution_count": 2,
     "metadata": {},
     "output_type": "execute_result"
    }
   ],
   "source": [
    "dataset = pd.read_csv('diabetes-dataset.csv')\n",
    "dataset.head()"
   ]
  },
  {
   "cell_type": "code",
   "execution_count": 3,
   "metadata": {},
   "outputs": [
    {
     "name": "stdout",
     "output_type": "stream",
     "text": [
      "Index(['Pregnancies', 'Glucose', 'BloodPressure', 'SkinThickness', 'Insulin',\n",
      "       'BMI', 'DiabetesPedigreeFunction', 'Age', 'Outcome'],\n",
      "      dtype='object')\n"
     ]
    }
   ],
   "source": [
    "feature_names = dataset.columns\n",
    "print(feature_names)\n",
    "\n",
    "x = dataset.drop([\"Outcome\"],axis=1)\n",
    "y=dataset[\"Outcome\"]\n",
    "\n",
    "X_train, X_test, Y_train, Y_test = train_test_split(x, y, test_size = 0.3, random_state=6)"
   ]
  },
  {
   "cell_type": "markdown",
   "metadata": {},
   "source": [
    "## Experiment # 1\n",
    "### SVG using kernal as poly, rbf, and sigmoid,"
   ]
  },
  {
   "cell_type": "code",
   "execution_count": 5,
   "metadata": {},
   "outputs": [
    {
     "name": "stdout",
     "output_type": "stream",
     "text": [
      "SVM using Kernel as  linear : 0.775\n",
      "SVM using Kernel as  poly : 0.765\n",
      "SVM using Kernel as  rbf : 0.77\n",
      "SVM using Kernel as  sigmoid : 0.445\n"
     ]
    }
   ],
   "source": [
    "kernels = ['linear','poly', 'rbf', 'sigmoid']\n",
    "\n",
    "for kernel in kernels:\n",
    "    model = SVC(kernel=kernel)\n",
    "    model.fit(X_train,Y_train)\n",
    "    Y_pred = model.predict(X_test)\n",
    "    print('SVM using Kernel as ',kernel,':',accuracy_score(Y_test,Y_pred))"
   ]
  },
  {
   "cell_type": "markdown",
   "metadata": {},
   "source": [
    "We can clearly see that kernel=linear outperforms all other kernel types. However, kernel=rbs is quite close to linear kernel"
   ]
  },
  {
   "cell_type": "markdown",
   "metadata": {},
   "source": [
    "## Experiment # 2\n",
    "\n",
    "### SVG using Kernel as poly with various degrees of polynomials"
   ]
  },
  {
   "cell_type": "code",
   "execution_count": null,
   "metadata": {
    "scrolled": true
   },
   "outputs": [],
   "source": [
    "for deg in range(1,10):\n",
    "    model = SVC(kernel='poly',degree=deg)\n",
    "    model.fit(X_train,Y_train)\n",
    "    Y_pred = model.predict(X_test)\n",
    "    print('SVM using Kernel as poly with degree = ',deg,':',accuracy_score(Y_test,Y_pred))"
   ]
  },
  {
   "cell_type": "markdown",
   "metadata": {},
   "source": [
    "1. SVM using Kernel as poly with degree =  1 : 0.7683333333333333\n",
    "2. SVM using Kernel as poly with degree =  2 : 0.775\n",
    "3. SVM using Kernel as poly with degree =  3 : 0.765\n",
    "4. SVM using Kernel as poly with degree =  4 : 0.7883333333333333\n",
    "5. SVM using Kernel as poly with degree =  5 : 0.7933333333333333\n",
    "6. SVM using Kernel as poly with degree =  6 : 0.7883333333333333\n",
    "7. SVM using Kernel as poly with degree =  7 : 0.7883333333333333\n",
    "8. SVM using Kernel as poly with degree =  8 : 0.7883333333333333\n",
    "9. SVM using Kernel as poly with degree =  9 : 0.7916666666666666\n",
    "10. SVM using Kernel as poly with degree =  10 : 0.785\n",
    "\n",
    "We can see from above accuracy scores that model has improved its accuracy from degree = 1 to degree = 5 and any bigger polynomial degree is not worth it and is wastage of resource. \n",
    "\n",
    "Hence, we can specify degree = 5 which gives us better accuracy score.\n"
   ]
  },
  {
   "cell_type": "markdown",
   "metadata": {},
   "source": [
    "## Experiment # 3\n",
    "\n",
    "### SVG using different Regularization Parameter with default kernel"
   ]
  },
  {
   "cell_type": "code",
   "execution_count": 6,
   "metadata": {},
   "outputs": [
    {
     "name": "stdout",
     "output_type": "stream",
     "text": [
      "SVM using default kernel and Regularization Parameter =  1 : 0.77\n",
      "SVM using default kernel and Regularization Parameter =  2 : 0.77\n",
      "SVM using default kernel and Regularization Parameter =  3 : 0.7666666666666667\n",
      "SVM using default kernel and Regularization Parameter =  4 : 0.775\n",
      "SVM using default kernel and Regularization Parameter =  5 : 0.775\n",
      "SVM using default kernel and Regularization Parameter =  6 : 0.7783333333333333\n",
      "SVM using default kernel and Regularization Parameter =  7 : 0.7783333333333333\n",
      "SVM using default kernel and Regularization Parameter =  8 : 0.7783333333333333\n",
      "SVM using default kernel and Regularization Parameter =  9 : 0.7733333333333333\n",
      "SVM using default kernel and Regularization Parameter =  10 : 0.7766666666666666\n",
      "SVM using default kernel and Regularization Parameter =  11 : 0.7783333333333333\n",
      "SVM using default kernel and Regularization Parameter =  12 : 0.7783333333333333\n",
      "SVM using default kernel and Regularization Parameter =  13 : 0.7783333333333333\n",
      "SVM using default kernel and Regularization Parameter =  14 : 0.7783333333333333\n",
      "SVM using default kernel and Regularization Parameter =  15 : 0.7783333333333333\n",
      "SVM using default kernel and Regularization Parameter =  16 : 0.7766666666666666\n",
      "SVM using default kernel and Regularization Parameter =  17 : 0.7766666666666666\n",
      "SVM using default kernel and Regularization Parameter =  18 : 0.7783333333333333\n",
      "SVM using default kernel and Regularization Parameter =  19 : 0.7783333333333333\n"
     ]
    }
   ],
   "source": [
    "for c in range(1,20):\n",
    "    model = SVC(C=c)\n",
    "    model.fit(X_train,Y_train)\n",
    "    Y_pred = model.predict(X_test)\n",
    "    print('SVM using default kernel and Regularization Parameter = ',c,':',accuracy_score(Y_test,Y_pred))"
   ]
  },
  {
   "cell_type": "markdown",
   "metadata": {},
   "source": [
    "We can see from above Regularization Parameters that the best accuracy score which is quite redundent is 0.778.\n",
    "Hence, hwe can specify C = 6."
   ]
  },
  {
   "cell_type": "markdown",
   "metadata": {},
   "source": [
    "## Experiment # 4\n",
    "\n",
    "### SVG using best configuration, found from above analysis and improvement technqiues\n",
    "#### 1. Kernel = 'linear'\n",
    "#### 2. Degree = 5\n",
    "#### 3. Regularization Parameter = 6"
   ]
  },
  {
   "cell_type": "code",
   "execution_count": 4,
   "metadata": {},
   "outputs": [
    {
     "name": "stdout",
     "output_type": "stream",
     "text": [
      "SVM using best configuration:  0.78\n"
     ]
    }
   ],
   "source": [
    "k = 'linear'\n",
    "d = 5\n",
    "c = 6\n",
    "\n",
    "model = SVC(kernel=k,degree=d,C=c)\n",
    "model.fit(X_train,Y_train)\n",
    "Y_pred = model.predict(X_test)\n",
    "print('SVM using best configuration: ',accuracy_score(Y_test,Y_pred))"
   ]
  },
  {
   "cell_type": "markdown",
   "metadata": {},
   "source": [
    "We can conclude from above experiments as:\n",
    "    1. Using Linear kernel gave us improved accuracy score (0.775) as compared to other kernel types.\n",
    "    2. Using 5th degree polynomial gaves us improved accuracy score (0.793) as compared to other degrees.\n",
    "    3. Using 6 as Regularization Parameter gaves us improved accuracy score (0.778) as compared to other parameters.\n",
    "    \n",
    "Hence, we can conclude that above configuration is giving us the best accuracy from above experiments so we did another experiment with support vector machine and used the best configuration where kernel=linear, degree=5 and C=6 and found out that the model accuracy (0.78) is better than 1st (0.775) and 3rd (0.778) experiment but 2nd model outperforms all the support vectors machines with highest accuracy of 0.793."
   ]
  }
 ],
 "metadata": {
  "kernelspec": {
   "display_name": "Python 3",
   "language": "python",
   "name": "python3"
  },
  "language_info": {
   "codemirror_mode": {
    "name": "ipython",
    "version": 3
   },
   "file_extension": ".py",
   "mimetype": "text/x-python",
   "name": "python",
   "nbconvert_exporter": "python",
   "pygments_lexer": "ipython3",
   "version": "3.8.3"
  }
 },
 "nbformat": 4,
 "nbformat_minor": 4
}
