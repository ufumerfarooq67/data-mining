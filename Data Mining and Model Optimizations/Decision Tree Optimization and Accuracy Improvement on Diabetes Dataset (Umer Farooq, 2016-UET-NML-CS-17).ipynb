{
 "cells": [
  {
   "cell_type": "code",
   "execution_count": 6,
   "metadata": {},
   "outputs": [],
   "source": [
    "import pandas as pd\n",
    "import numpy as np\n",
    "from sklearn.tree import DecisionTreeClassifier\n",
    "from sklearn.model_selection import train_test_split\n",
    "from sklearn import metrics"
   ]
  },
  {
   "cell_type": "code",
   "execution_count": 7,
   "metadata": {},
   "outputs": [
    {
     "data": {
      "text/html": [
       "<div>\n",
       "<style scoped>\n",
       "    .dataframe tbody tr th:only-of-type {\n",
       "        vertical-align: middle;\n",
       "    }\n",
       "\n",
       "    .dataframe tbody tr th {\n",
       "        vertical-align: top;\n",
       "    }\n",
       "\n",
       "    .dataframe thead th {\n",
       "        text-align: right;\n",
       "    }\n",
       "</style>\n",
       "<table border=\"1\" class=\"dataframe\">\n",
       "  <thead>\n",
       "    <tr style=\"text-align: right;\">\n",
       "      <th></th>\n",
       "      <th>Pregnancies</th>\n",
       "      <th>Glucose</th>\n",
       "      <th>BloodPressure</th>\n",
       "      <th>SkinThickness</th>\n",
       "      <th>Insulin</th>\n",
       "      <th>BMI</th>\n",
       "      <th>DiabetesPedigreeFunction</th>\n",
       "      <th>Age</th>\n",
       "      <th>Outcome</th>\n",
       "    </tr>\n",
       "  </thead>\n",
       "  <tbody>\n",
       "    <tr>\n",
       "      <th>0</th>\n",
       "      <td>2</td>\n",
       "      <td>138</td>\n",
       "      <td>62</td>\n",
       "      <td>35</td>\n",
       "      <td>0</td>\n",
       "      <td>33.6</td>\n",
       "      <td>0.127</td>\n",
       "      <td>47</td>\n",
       "      <td>1</td>\n",
       "    </tr>\n",
       "    <tr>\n",
       "      <th>1</th>\n",
       "      <td>0</td>\n",
       "      <td>84</td>\n",
       "      <td>82</td>\n",
       "      <td>31</td>\n",
       "      <td>125</td>\n",
       "      <td>38.2</td>\n",
       "      <td>0.233</td>\n",
       "      <td>23</td>\n",
       "      <td>0</td>\n",
       "    </tr>\n",
       "    <tr>\n",
       "      <th>2</th>\n",
       "      <td>0</td>\n",
       "      <td>145</td>\n",
       "      <td>0</td>\n",
       "      <td>0</td>\n",
       "      <td>0</td>\n",
       "      <td>44.2</td>\n",
       "      <td>0.630</td>\n",
       "      <td>31</td>\n",
       "      <td>1</td>\n",
       "    </tr>\n",
       "    <tr>\n",
       "      <th>3</th>\n",
       "      <td>0</td>\n",
       "      <td>135</td>\n",
       "      <td>68</td>\n",
       "      <td>42</td>\n",
       "      <td>250</td>\n",
       "      <td>42.3</td>\n",
       "      <td>0.365</td>\n",
       "      <td>24</td>\n",
       "      <td>1</td>\n",
       "    </tr>\n",
       "    <tr>\n",
       "      <th>4</th>\n",
       "      <td>1</td>\n",
       "      <td>139</td>\n",
       "      <td>62</td>\n",
       "      <td>41</td>\n",
       "      <td>480</td>\n",
       "      <td>40.7</td>\n",
       "      <td>0.536</td>\n",
       "      <td>21</td>\n",
       "      <td>0</td>\n",
       "    </tr>\n",
       "  </tbody>\n",
       "</table>\n",
       "</div>"
      ],
      "text/plain": [
       "   Pregnancies  Glucose  BloodPressure  SkinThickness  Insulin   BMI  \\\n",
       "0            2      138             62             35        0  33.6   \n",
       "1            0       84             82             31      125  38.2   \n",
       "2            0      145              0              0        0  44.2   \n",
       "3            0      135             68             42      250  42.3   \n",
       "4            1      139             62             41      480  40.7   \n",
       "\n",
       "   DiabetesPedigreeFunction  Age  Outcome  \n",
       "0                     0.127   47        1  \n",
       "1                     0.233   23        0  \n",
       "2                     0.630   31        1  \n",
       "3                     0.365   24        1  \n",
       "4                     0.536   21        0  "
      ]
     },
     "execution_count": 7,
     "metadata": {},
     "output_type": "execute_result"
    }
   ],
   "source": [
    "dataset = pd.read_csv('diabetes-dataset.csv')\n",
    "dataset.head()"
   ]
  },
  {
   "cell_type": "code",
   "execution_count": 3,
   "metadata": {},
   "outputs": [
    {
     "name": "stdout",
     "output_type": "stream",
     "text": [
      "Index(['Pregnancies', 'Glucose', 'BloodPressure', 'SkinThickness', 'Insulin',\n",
      "       'BMI', 'DiabetesPedigreeFunction', 'Age', 'Outcome'],\n",
      "      dtype='object')\n"
     ]
    }
   ],
   "source": [
    "feature_names = dataset.columns\n",
    "print(feature_names)\n",
    "\n",
    "x = dataset.drop([\"Outcome\"],axis=1)\n",
    "y=dataset[\"Outcome\"]\n",
    "\n",
    "X_train, X_test, Y_train, Y_test = train_test_split(x, y, test_size = 0.3, random_state=6)"
   ]
  },
  {
   "cell_type": "markdown",
   "metadata": {},
   "source": [
    "## Depth of The Decision Tree : None means that all leaves will be pure or all leaves contains less than min_samples_splits sampels (default 2)."
   ]
  },
  {
   "cell_type": "code",
   "execution_count": 4,
   "metadata": {},
   "outputs": [
    {
     "name": "stdout",
     "output_type": "stream",
     "text": [
      "Accuracy (Max Depth = None) : 0.955\n"
     ]
    }
   ],
   "source": [
    "model_max_depth = DecisionTreeClassifier(max_depth=None)\n",
    "model_max_depth.fit(X_train, Y_train)\n",
    "prediction = model_max_depth.predict(X_test)\n",
    "print(\"Accuracy (Max Depth = None) :\", metrics.accuracy_score(prediction,Y_test))"
   ]
  },
  {
   "cell_type": "markdown",
   "metadata": {},
   "source": [
    "## Max_Depth:The maximum depth of the tree. If N is specified, it will grow to that size and will stop. (1 <= N <= 20 )"
   ]
  },
  {
   "cell_type": "code",
   "execution_count": 8,
   "metadata": {},
   "outputs": [
    {
     "name": "stdout",
     "output_type": "stream",
     "text": [
      "Accuracy (Max Depth =  1 ) : 0.72\n",
      "Accuracy (Max Depth =  2 ) : 0.76\n",
      "Accuracy (Max Depth =  3 ) : 0.7616666666666667\n",
      "Accuracy (Max Depth =  4 ) : 0.77\n",
      "Accuracy (Max Depth =  5 ) : 0.8466666666666667\n",
      "Accuracy (Max Depth =  6 ) : 0.85\n",
      "Accuracy (Max Depth =  7 ) : 0.845\n",
      "Accuracy (Max Depth =  8 ) : 0.88\n",
      "Accuracy (Max Depth =  9 ) : 0.9016666666666666\n",
      "Accuracy (Max Depth =  10 ) : 0.93\n",
      "Accuracy (Max Depth =  11 ) : 0.9383333333333334\n",
      "Accuracy (Max Depth =  12 ) : 0.945\n",
      "Accuracy (Max Depth =  13 ) : 0.9466666666666667\n",
      "Accuracy (Max Depth =  14 ) : 0.9583333333333334\n",
      "Accuracy (Max Depth =  15 ) : 0.9516666666666667\n",
      "Accuracy (Max Depth =  16 ) : 0.955\n",
      "Accuracy (Max Depth =  17 ) : 0.955\n",
      "Accuracy (Max Depth =  18 ) : 0.9583333333333334\n",
      "Accuracy (Max Depth =  19 ) : 0.955\n",
      "Accuracy (Max Depth =  20 ) : 0.965\n"
     ]
    }
   ],
   "source": [
    "#With max depth as 5 which is quite less so it will not reach to best analysis.\n",
    "k=10\n",
    "for i in range(20):\n",
    "    model_max_depth_n = DecisionTreeClassifier(max_depth=i+1)\n",
    "    model_max_depth_n.fit(X_train, Y_train)\n",
    "    prediction = model_max_depth_n.predict(X_test)\n",
    "    print(\"Accuracy (Max Depth = \",i+1,\") :\", metrics.accuracy_score(prediction,Y_test))"
   ]
  },
  {
   "cell_type": "markdown",
   "metadata": {},
   "source": [
    "#### We can conclude by looking at the results of model_max_depth with max_depth as None and model_max_depth with max_depth from 1-20 that model_max_depth outforms model_max_depth with n from 1 to 29 but at max_depth = 20, out second model outperforms the first one with None as max_depth"
   ]
  },
  {
   "cell_type": "markdown",
   "metadata": {},
   "source": [
    "### Using Decision Tree with criterion as gini  to measure the quality of our dataset split."
   ]
  },
  {
   "cell_type": "code",
   "execution_count": 9,
   "metadata": {},
   "outputs": [
    {
     "name": "stdout",
     "output_type": "stream",
     "text": [
      "Accuracy (Criterion = gini): 0.955\n"
     ]
    }
   ],
   "source": [
    "model_gini = DecisionTreeClassifier(criterion='gini')\n",
    "model_gini.fit(X_train, Y_train)\n",
    "prediction = model_gini.predict(X_test)\n",
    "\n",
    "print(\"Accuracy (Criterion = gini):\", metrics.accuracy_score(prediction,Y_test))"
   ]
  },
  {
   "cell_type": "markdown",
   "metadata": {},
   "source": [
    "### Using Decision Tree with criterion as entropy to measure the quality of our dataset split."
   ]
  },
  {
   "cell_type": "code",
   "execution_count": 10,
   "metadata": {},
   "outputs": [
    {
     "name": "stdout",
     "output_type": "stream",
     "text": [
      "Accuracy (Criterion = entropy): 0.9616666666666667\n"
     ]
    }
   ],
   "source": [
    "model_entropy = DecisionTreeClassifier(criterion='entropy')\n",
    "model_entropy.fit(X_train, Y_train)\n",
    "prediction = model_entropy.predict(X_test)\n",
    "print(\"Accuracy (Criterion = entropy):\", metrics.accuracy_score(prediction,Y_test))\n"
   ]
  },
  {
   "cell_type": "markdown",
   "metadata": {},
   "source": [
    "#### From model with criteria as entropy and model_gini with criteria as gini, we can conclude that entropy outperformed and improved the accuracy of our model."
   ]
  },
  {
   "cell_type": "markdown",
   "metadata": {},
   "source": [
    "### Using Decision Tree with splitter arguement as random for random feature selection at each node. "
   ]
  },
  {
   "cell_type": "code",
   "execution_count": 11,
   "metadata": {},
   "outputs": [
    {
     "name": "stdout",
     "output_type": "stream",
     "text": [
      "Accuracy (Splitter =  random) : 0.9466666666666667\n"
     ]
    }
   ],
   "source": [
    "model_random = DecisionTreeClassifier(splitter='random')\n",
    "model_random.fit(X_train, Y_train)\n",
    "prediction = model_random.predict(X_test)\n",
    "print(\"Accuracy (Splitter =  random) :\", metrics.accuracy_score(prediction,Y_test))"
   ]
  },
  {
   "cell_type": "markdown",
   "metadata": {},
   "source": [
    "### Using Decision Tree with splitter arguement as best for best features selection at each node."
   ]
  },
  {
   "cell_type": "code",
   "execution_count": 12,
   "metadata": {},
   "outputs": [
    {
     "name": "stdout",
     "output_type": "stream",
     "text": [
      "Accuracy (Splitter = Best) : 0.9583333333333334\n"
     ]
    }
   ],
   "source": [
    "model_best = DecisionTreeClassifier(splitter='best')\n",
    "model_best.fit(X_train, Y_train)\n",
    "prediction = model_best.predict(X_test)\n",
    "print(\"Accuracy (Splitter = Best) :\", metrics.accuracy_score(prediction,Y_test))"
   ]
  },
  {
   "cell_type": "markdown",
   "metadata": {},
   "source": [
    "#### By looking at the accuracy of model_random with splitter as random and model_best with splitter as best, we can conclude that Decision Tree with feature split at each node done randomly outperforms the \"best\" one. "
   ]
  },
  {
   "cell_type": "markdown",
   "metadata": {},
   "source": [
    "### Using The Decision Tree with best values of Splitter, Criterion and Max Depth"
   ]
  },
  {
   "cell_type": "code",
   "execution_count": 15,
   "metadata": {},
   "outputs": [
    {
     "name": "stdout",
     "output_type": "stream",
     "text": [
      "Accuracy (Splitter = Best) : 0.9683333333333334\n"
     ]
    }
   ],
   "source": [
    "model = DecisionTreeClassifier(criterion = \"gini\",splitter='random',max_depth=20)\n",
    "model.fit(X_train, Y_train)\n",
    "prediction = model.predict(X_test)\n",
    "print(\"Accuracy (Splitter = Best) :\", metrics.accuracy_score(prediction,Y_test))"
   ]
  },
  {
   "cell_type": "markdown",
   "metadata": {},
   "source": [
    "#### The model combined with best criterion, splitter and max_depth argument did not outperform the previous models."
   ]
  }
 ],
 "metadata": {
  "kernelspec": {
   "display_name": "Python 3",
   "language": "python",
   "name": "python3"
  },
  "language_info": {
   "codemirror_mode": {
    "name": "ipython",
    "version": 3
   },
   "file_extension": ".py",
   "mimetype": "text/x-python",
   "name": "python",
   "nbconvert_exporter": "python",
   "pygments_lexer": "ipython3",
   "version": "3.8.8"
  }
 },
 "nbformat": 4,
 "nbformat_minor": 4
}
